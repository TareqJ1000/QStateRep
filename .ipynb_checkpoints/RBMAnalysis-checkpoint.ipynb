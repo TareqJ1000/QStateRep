{
 "cells": [
  {
   "cell_type": "markdown",
   "id": "11e79be9-8448-481d-bb30-1df1c61b721e",
   "metadata": {},
   "source": [
    "# RBM Analysis\n",
    "Jupyter notebook which analyzes the results of our trained RBM model used to predict the ground state configuration of a many-body quantum system described by the periodic TFIM with Hamiltonian\n",
    "\n",
    "$\\hat{H} = -\\sum^{N}_{i=1} \\hat{\\sigma}^{z}_{i} \\hat{\\sigma}^{z}_{i+1} - h \\sum_{i=1}^{N} \\hat{\\sigma}^{x}_{i}$\n",
    "\n",
    "Where $\\hat{\\sigma}_{i}^{z}$ and $\\hat{\\sigma}_{i}^{x}$ are Pauli operators acting on the $i^{th}$ qubit. Here, we can assume that we're normalized wrt the coupling constant $J$, so that the transverse field strength is really in terms of $J$. "
   ]
  },
  {
   "cell_type": "markdown",
   "id": "92aa2bd1-74ff-4378-b2e1-b967747beb1d",
   "metadata": {},
   "source": [
    "First, load up the requiste packages."
   ]
  },
  {
   "cell_type": "code",
   "execution_count": 6,
   "id": "3b2524f5-db44-4f02-abef-a585b87a2c5c",
   "metadata": {},
   "outputs": [],
   "source": [
    "import numpy as np\n",
    "import matplotlib.pyplot as plt\n",
    "import seaborn as sns\n",
    "\n",
    "import hamils\n",
    "from rbm import ResBoltMan \n",
    "import yaml \n",
    "from yaml import Loader"
   ]
  },
  {
   "cell_type": "markdown",
   "id": "9f185162-e244-4b98-b84b-d24d8affaa15",
   "metadata": {},
   "source": [
    "Initialize and load up the trained RBM"
   ]
  },
  {
   "cell_type": "code",
   "execution_count": 7,
   "id": "9249a0a3-f3ba-4a73-b00b-9b0e5c4ad275",
   "metadata": {},
   "outputs": [],
   "source": [
    "# load up parameters about our training. \n",
    "index = 0\n",
    "stream = open(f\"configs/train{index}.yaml\", 'r')\n",
    "cnfg = yaml.load(stream, Loader=Loader)\n",
    "\n",
    "N = cnfg['N']\n",
    "h = cnfg['h']\n",
    "num_hid=cnfg['num_hid']\n",
    "name = cnfg['name']\n",
    "load_direc = cnfg['save_direc']\n",
    "\n",
    "trained_RBM = ResBoltMan(N, num_hid, name, h=h)\n",
    "trained_RBM.load_rbm(name, f'models/{load_direc}')\n"
   ]
  },
  {
   "cell_type": "markdown",
   "id": "ae77914a-af92-4db6-9da3-5ac2cab41167",
   "metadata": {},
   "source": [
    "Calculate the variance and the mean of the energy expectation value. "
   ]
  },
  {
   "cell_type": "code",
   "execution_count": null,
   "id": "a22608fb-3d38-442a-a644-a51272e5c2b2",
   "metadata": {},
   "outputs": [],
   "source": []
  }
 ],
 "metadata": {
  "kernelspec": {
   "display_name": "Python 3 (ipykernel)",
   "language": "python",
   "name": "python3"
  },
  "language_info": {
   "codemirror_mode": {
    "name": "ipython",
    "version": 3
   },
   "file_extension": ".py",
   "mimetype": "text/x-python",
   "name": "python",
   "nbconvert_exporter": "python",
   "pygments_lexer": "ipython3",
   "version": "3.11.5"
  }
 },
 "nbformat": 4,
 "nbformat_minor": 5
}
