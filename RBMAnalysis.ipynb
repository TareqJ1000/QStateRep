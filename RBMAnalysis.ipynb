{
 "cells": [
  {
   "cell_type": "markdown",
   "id": "11e79be9-8448-481d-bb30-1df1c61b721e",
   "metadata": {},
   "source": [
    "# RBM Analysis\n",
    "Jupyter notebook which analyzes the results of our trained RBM model used to predict the ground state configuration of a many-body quantum system described by the periodic TFIM with Hamiltonian\n",
    "\n",
    "$\\hat{H} = -\\sum^{N}_{i=1} \\hat{\\sigma}^{z}_{i} \\hat{\\sigma}^{z}_{i+1} - h \\sum_{i=1}^{N} \\hat{\\sigma}^{x}_{i}$\n",
    "\n",
    "Where $\\hat{\\sigma}_{i}^{z}$ and $\\hat{\\sigma}_{i}^{x}$ are Pauli operators acting on the $i^{th}$ qubit. Here, we can assume that we're normalized wrt the coupling constant $J$, so that the transverse field strength is really in terms of $J$. "
   ]
  },
  {
   "cell_type": "markdown",
   "id": "92aa2bd1-74ff-4378-b2e1-b967747beb1d",
   "metadata": {},
   "source": [
    "First, load up the requiste packages."
   ]
  },
  {
   "cell_type": "code",
   "execution_count": 65,
   "id": "3b2524f5-db44-4f02-abef-a585b87a2c5c",
   "metadata": {},
   "outputs": [],
   "source": [
    "import numpy as np\n",
    "import matplotlib.pyplot as plt\n",
    "import seaborn as sns\n",
    "\n",
    "import hamils\n",
    "from rbm import ResBoltMan \n",
    "import yaml \n",
    "from yaml import Loader"
   ]
  },
  {
   "cell_type": "markdown",
   "id": "9f185162-e244-4b98-b84b-d24d8affaa15",
   "metadata": {},
   "source": [
    "Initialize and load up the trained RBM"
   ]
  },
  {
   "cell_type": "code",
   "execution_count": 102,
   "id": "9249a0a3-f3ba-4a73-b00b-9b0e5c4ad275",
   "metadata": {},
   "outputs": [
    {
     "name": "stdout",
     "output_type": "stream",
     "text": [
      "rbm_5\n"
     ]
    }
   ],
   "source": [
    "# load up parameters about our training. \n",
    "index = 5\n",
    "stream = open(f\"configs/train{index}.yaml\", 'r')\n",
    "cnfg = yaml.load(stream, Loader=Loader)\n",
    "\n",
    "N = cnfg['N']\n",
    "h = cnfg['h']\n",
    "num_hid=cnfg['num_hid']\n",
    "name = cnfg['name']\n",
    "load_direc = cnfg['save_direc']\n",
    "\n",
    "trained_RBM = ResBoltMan(N, num_hid, name, h=h)\n",
    "trained_RBM.load_rbm(name, f'models/{load_direc}')\n",
    "print(name)\n",
    "\n",
    "# Make sure to update the partition function to reflect the newly loaded parameters, too!\n",
    "\n",
    "trained_RBM.update_part_func()"
   ]
  },
  {
   "cell_type": "markdown",
   "id": "ae77914a-af92-4db6-9da3-5ac2cab41167",
   "metadata": {},
   "source": [
    "Calculate the variance and the mean of the energy expectation value. "
   ]
  },
  {
   "cell_type": "code",
   "execution_count": 103,
   "id": "a22608fb-3d38-442a-a644-a51272e5c2b2",
   "metadata": {},
   "outputs": [
    {
     "name": "stdout",
     "output_type": "stream",
     "text": [
      "Mean: (-6.270763189486103+0j), Variance: 0.2814941855794244\n"
     ]
    }
   ],
   "source": [
    "mean_expect, var_expect = trained_RBM.get_mean_var(1000)\n",
    "print(f\"Mean: {mean_expect}, Variance: {var_expect}\")"
   ]
  },
  {
   "cell_type": "markdown",
   "id": "e8696e08",
   "metadata": {},
   "source": [
    "We can also reconstruct the ground state by computing the probability amplitudes and taking the weighted sum of all of the basis states. "
   ]
  },
  {
   "cell_type": "code",
   "execution_count": 104,
   "id": "4483b24b",
   "metadata": {},
   "outputs": [],
   "source": [
    "from hamils import gen_basis_state\n",
    "\n",
    "ground_state_amp_reconst = trained_RBM.compute_prob_basis() # Probability amplitudes\n",
    "basis_state_rep = gen_basis_state(N)\n",
    "basis_states =[trained_RBM.gen_basis_state(bs_rep) for bs_rep in basis_state_rep] \n",
    "\n",
    "# We verify that the probabilities are properly normalized here \n",
    "\n",
    "ground_state_rec = np.sum([basis_states[ii]*ground_state_amp_reconst[ii] for ii in range(2**N)], axis=1)\n",
    "#print(ground_state_rec)\n",
    "\n",
    "#print(np.sum((ground_state_amp_reconst)**2))"
   ]
  },
  {
   "cell_type": "markdown",
   "id": "ff9965b1",
   "metadata": {},
   "source": [
    "For comparision, determine the ground state using Exact Diagonalization"
   ]
  },
  {
   "cell_type": "code",
   "execution_count": 105,
   "id": "435edb92",
   "metadata": {},
   "outputs": [
    {
     "name": "stdout",
     "output_type": "stream",
     "text": [
      "Actual Expected Energy: -6.4721359549995805\n"
     ]
    }
   ],
   "source": [
    "from hamils import compute_hamiltonian\n",
    "from numpy.linalg import eigh\n",
    "\n",
    "theoretical_hamiltonian = compute_hamiltonian(N, h)\n",
    "gnomeState = np.zeros(N, dtype=np.complex128)\n",
    "eigSpectrum, eigSol = eigh(theoretical_hamiltonian)\n",
    "ground_state_eigenvalue = np.min(eigSpectrum)\n",
    "ground_state_index= np.argmin(eigSpectrum)\n",
    "ground_state = eigSol[ground_state_index]\n",
    "\n",
    "print(f'Actual Expected Energy: {ground_state_eigenvalue}')"
   ]
  },
  {
   "cell_type": "markdown",
   "id": "4ecb503c",
   "metadata": {},
   "source": [
    "Make a plot of the histogram of amplitude distributions "
   ]
  },
  {
   "cell_type": "code",
   "execution_count": 101,
   "id": "062bcb12",
   "metadata": {},
   "outputs": [
    {
     "name": "stderr",
     "output_type": "stream",
     "text": [
      "C:\\Users\\tjaou104\\AppData\\Local\\anaconda3\\Lib\\site-packages\\matplotlib\\transforms.py:762: ComplexWarning: Casting complex values to real discards the imaginary part\n",
      "  points = np.asarray(points, float)\n"
     ]
    },
    {
     "data": {
      "image/png": "[encoded data removed]",
      "text/plain": [
       "<Figure size 640x480 with 1 Axes>"
      ]
     },
     "metadata": {},
     "output_type": "display_data"
    }
   ],
   "source": [
    "import pandas as pd\n",
    "# Create a DataFrame in long-form\n",
    "\n",
    "labels = [r'$\\vec{\\sigma}_0$', r'$\\vec{\\sigma}_1$', r'$\\vec{\\sigma}_2$', r'$\\vec{\\sigma}_3$', r'$\\vec{\\sigma}_4$', r'$\\vec{\\sigma}_5$', r'$\\vec{\\sigma}_6$', r'$\\vec{\\sigma}_7$']\n",
    "\n",
    "fig, ax = plt.subplots()\n",
    "ax.bar(labels, ground_state, label='Theoretical Ground State')\n",
    "ax.bar(labels, ground_state_rec, label='Reconstructed Ground State')  # stacked on top of array1\n",
    "\n",
    "ax.set_xlabel('Basis States')\n",
    "ax.set_ylabel(r'$\\psi(\\vec{\\sigma})$')\n",
    "ax.set_title(r'Reconstructed vs. Theoretical Ground State $\\psi(\\vec{\\sigma})$')\n",
    "ax.set_xticks(labels)\n",
    "ax.set_xticklabels(labels)\n",
    "ax.legend()\n",
    "\n",
    "plt.savefig('rbm_theory_vs_rec.pdf', format='pdf', bbox_inches='tight')"
   ]
  },
  {
   "cell_type": "code",
   "execution_count": null,
   "id": "2f6965c3",
   "metadata": {},
   "outputs": [],
   "source": []
  }
 ],
 "metadata": {
  "kernelspec": {
   "display_name": "Python 3 (ipykernel)",
   "language": "python",
   "name": "python3"
  },
  "language_info": {
   "codemirror_mode": {
    "name": "ipython",
    "version": 3
   },
   "file_extension": ".py",
   "mimetype": "text/x-python",
   "name": "python",
   "nbconvert_exporter": "python",
   "pygments_lexer": "ipython3",
   "version": "3.11.5"
  }
 },
 "nbformat": 4,
 "nbformat_minor": 5
}
